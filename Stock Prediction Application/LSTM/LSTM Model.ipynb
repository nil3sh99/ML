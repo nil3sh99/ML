{
 "cells": [
  {
   "cell_type": "markdown",
   "id": "57749b13",
   "metadata": {},
   "source": [
    "# Stock Market Prediction and Forecasting using Stacked LSTM"
   ]
  },
  {
   "cell_type": "code",
   "execution_count": 1,
   "id": "2ec6d5da",
   "metadata": {},
   "outputs": [],
   "source": [
    "#Data Collection\n",
    "import pandas_datareader as pdr"
   ]
  },
  {
   "cell_type": "code",
   "execution_count": 3,
   "id": "e942a6d1",
   "metadata": {},
   "outputs": [
    {
     "name": "stderr",
     "output_type": "stream",
     "text": [
      "C:\\Users\\Nilesh Aggarwal\\anaconda3\\lib\\site-packages\\pandas_datareader\\tiingo.py:234: FutureWarning: In a future version of pandas all arguments of concat except for the argument 'objs' will be keyword-only\n",
      "  return pd.concat(dfs, self._concat_axis)\n"
     ]
    }
   ],
   "source": [
    "key = '2ce5238ab7782b4150af996957b5b1f2f88153fb'\n",
    "df = pdr.get_data_tiingo('AAPL', api_key=key)"
   ]
  },
  {
   "cell_type": "code",
   "execution_count": 4,
   "id": "cd5f94e4",
   "metadata": {},
   "outputs": [],
   "source": [
    "df.to_csv('AAPL.csv')"
   ]
  },
  {
   "cell_type": "code",
   "execution_count": 5,
   "id": "43bc8319",
   "metadata": {},
   "outputs": [],
   "source": [
    "import pandas as pd"
   ]
  },
  {
   "cell_type": "code",
   "execution_count": 6,
   "id": "a65e993b",
   "metadata": {},
   "outputs": [],
   "source": [
    "df = pd.read_csv('AAPL.csv')"
   ]
  },
  {
   "cell_type": "code",
   "execution_count": 9,
   "id": "e6acb7f6",
   "metadata": {},
   "outputs": [
    {
     "data": {
      "text/html": [
       "<div>\n",
       "<style scoped>\n",
       "    .dataframe tbody tr th:only-of-type {\n",
       "        vertical-align: middle;\n",
       "    }\n",
       "\n",
       "    .dataframe tbody tr th {\n",
       "        vertical-align: top;\n",
       "    }\n",
       "\n",
       "    .dataframe thead th {\n",
       "        text-align: right;\n",
       "    }\n",
       "</style>\n",
       "<table border=\"1\" class=\"dataframe\">\n",
       "  <thead>\n",
       "    <tr style=\"text-align: right;\">\n",
       "      <th></th>\n",
       "      <th>symbol</th>\n",
       "      <th>date</th>\n",
       "      <th>close</th>\n",
       "      <th>high</th>\n",
       "      <th>low</th>\n",
       "      <th>open</th>\n",
       "      <th>volume</th>\n",
       "      <th>adjClose</th>\n",
       "      <th>adjHigh</th>\n",
       "      <th>adjLow</th>\n",
       "      <th>adjOpen</th>\n",
       "      <th>adjVolume</th>\n",
       "      <th>divCash</th>\n",
       "      <th>splitFactor</th>\n",
       "    </tr>\n",
       "  </thead>\n",
       "  <tbody>\n",
       "    <tr>\n",
       "      <th>1253</th>\n",
       "      <td>AAPL</td>\n",
       "      <td>2022-06-22 00:00:00+00:00</td>\n",
       "      <td>135.35</td>\n",
       "      <td>137.760</td>\n",
       "      <td>133.910</td>\n",
       "      <td>134.790</td>\n",
       "      <td>73409234</td>\n",
       "      <td>135.35</td>\n",
       "      <td>137.760</td>\n",
       "      <td>133.910</td>\n",
       "      <td>134.790</td>\n",
       "      <td>73409234</td>\n",
       "      <td>0.0</td>\n",
       "      <td>1.0</td>\n",
       "    </tr>\n",
       "    <tr>\n",
       "      <th>1254</th>\n",
       "      <td>AAPL</td>\n",
       "      <td>2022-06-23 00:00:00+00:00</td>\n",
       "      <td>138.27</td>\n",
       "      <td>138.590</td>\n",
       "      <td>135.630</td>\n",
       "      <td>136.820</td>\n",
       "      <td>72433768</td>\n",
       "      <td>138.27</td>\n",
       "      <td>138.590</td>\n",
       "      <td>135.630</td>\n",
       "      <td>136.820</td>\n",
       "      <td>72433768</td>\n",
       "      <td>0.0</td>\n",
       "      <td>1.0</td>\n",
       "    </tr>\n",
       "    <tr>\n",
       "      <th>1255</th>\n",
       "      <td>AAPL</td>\n",
       "      <td>2022-06-24 00:00:00+00:00</td>\n",
       "      <td>141.66</td>\n",
       "      <td>141.910</td>\n",
       "      <td>139.770</td>\n",
       "      <td>139.900</td>\n",
       "      <td>89116837</td>\n",
       "      <td>141.66</td>\n",
       "      <td>141.910</td>\n",
       "      <td>139.770</td>\n",
       "      <td>139.900</td>\n",
       "      <td>89116837</td>\n",
       "      <td>0.0</td>\n",
       "      <td>1.0</td>\n",
       "    </tr>\n",
       "    <tr>\n",
       "      <th>1256</th>\n",
       "      <td>AAPL</td>\n",
       "      <td>2022-06-27 00:00:00+00:00</td>\n",
       "      <td>141.66</td>\n",
       "      <td>143.490</td>\n",
       "      <td>140.965</td>\n",
       "      <td>142.695</td>\n",
       "      <td>70207908</td>\n",
       "      <td>141.66</td>\n",
       "      <td>143.490</td>\n",
       "      <td>140.965</td>\n",
       "      <td>142.695</td>\n",
       "      <td>70207908</td>\n",
       "      <td>0.0</td>\n",
       "      <td>1.0</td>\n",
       "    </tr>\n",
       "    <tr>\n",
       "      <th>1257</th>\n",
       "      <td>AAPL</td>\n",
       "      <td>2022-06-28 00:00:00+00:00</td>\n",
       "      <td>137.44</td>\n",
       "      <td>143.422</td>\n",
       "      <td>137.325</td>\n",
       "      <td>142.130</td>\n",
       "      <td>67315328</td>\n",
       "      <td>137.44</td>\n",
       "      <td>143.422</td>\n",
       "      <td>137.325</td>\n",
       "      <td>142.130</td>\n",
       "      <td>67315328</td>\n",
       "      <td>0.0</td>\n",
       "      <td>1.0</td>\n",
       "    </tr>\n",
       "  </tbody>\n",
       "</table>\n",
       "</div>"
      ],
      "text/plain": [
       "     symbol                       date   close     high      low     open  \\\n",
       "1253   AAPL  2022-06-22 00:00:00+00:00  135.35  137.760  133.910  134.790   \n",
       "1254   AAPL  2022-06-23 00:00:00+00:00  138.27  138.590  135.630  136.820   \n",
       "1255   AAPL  2022-06-24 00:00:00+00:00  141.66  141.910  139.770  139.900   \n",
       "1256   AAPL  2022-06-27 00:00:00+00:00  141.66  143.490  140.965  142.695   \n",
       "1257   AAPL  2022-06-28 00:00:00+00:00  137.44  143.422  137.325  142.130   \n",
       "\n",
       "        volume  adjClose  adjHigh   adjLow  adjOpen  adjVolume  divCash  \\\n",
       "1253  73409234    135.35  137.760  133.910  134.790   73409234      0.0   \n",
       "1254  72433768    138.27  138.590  135.630  136.820   72433768      0.0   \n",
       "1255  89116837    141.66  141.910  139.770  139.900   89116837      0.0   \n",
       "1256  70207908    141.66  143.490  140.965  142.695   70207908      0.0   \n",
       "1257  67315328    137.44  143.422  137.325  142.130   67315328      0.0   \n",
       "\n",
       "      splitFactor  \n",
       "1253          1.0  \n",
       "1254          1.0  \n",
       "1255          1.0  \n",
       "1256          1.0  \n",
       "1257          1.0  "
      ]
     },
     "execution_count": 9,
     "metadata": {},
     "output_type": "execute_result"
    }
   ],
   "source": [
    "df.tail()"
   ]
  },
  {
   "cell_type": "code",
   "execution_count": 11,
   "id": "190b467c",
   "metadata": {},
   "outputs": [],
   "source": [
    "# Picking up 'close' column\n",
    "df1 = df.reset_index()['close']"
   ]
  },
  {
   "cell_type": "code",
   "execution_count": 12,
   "id": "5c01f018",
   "metadata": {},
   "outputs": [
    {
     "data": {
      "text/plain": [
       "0       143.68\n",
       "1       144.02\n",
       "2       143.50\n",
       "3       144.09\n",
       "4       142.73\n",
       "         ...  \n",
       "1253    135.35\n",
       "1254    138.27\n",
       "1255    141.66\n",
       "1256    141.66\n",
       "1257    137.44\n",
       "Name: close, Length: 1258, dtype: float64"
      ]
     },
     "execution_count": 12,
     "metadata": {},
     "output_type": "execute_result"
    }
   ],
   "source": [
    "df1"
   ]
  },
  {
   "cell_type": "code",
   "execution_count": 13,
   "id": "5ec4c7aa",
   "metadata": {},
   "outputs": [
    {
     "data": {
      "text/plain": [
       "[<matplotlib.lines.Line2D at 0x1c93d6c4070>]"
      ]
     },
     "execution_count": 13,
     "metadata": {},
     "output_type": "execute_result"
    },
    {
     "data": {
      "image/png": "[encoded data removed]",
      "text/plain": [
       "<Figure size 432x288 with 1 Axes>"
      ]
     },
     "metadata": {
      "needs_background": "light"
     },
     "output_type": "display_data"
    }
   ],
   "source": [
    "import matplotlib.pyplot as plt\n",
    "plt.plot(df1)"
   ]
  },
  {
   "cell_type": "code",
   "execution_count": 15,
   "id": "a5a9ce29",
   "metadata": {},
   "outputs": [],
   "source": [
    "# LSTM are sensitive to the scale of data, so we apply MinMax scaler\n",
    "\n",
    "import numpy as np\n",
    "from sklearn.preprocessing import MinMaxScaler\n",
    "scaler = MinMaxScaler(feature_range=(0,1))\n",
    "df1 = scaler.fit_transform(np.array(df1).reshape(-1,1))"
   ]
  },
  {
   "cell_type": "code",
   "execution_count": 16,
   "id": "602ba6e9",
   "metadata": {},
   "outputs": [
    {
     "data": {
      "text/plain": [
       "array([[0.09227301],\n",
       "       [0.09312461],\n",
       "       [0.09182217],\n",
       "       ...,\n",
       "       [0.08721353],\n",
       "       [0.08721353],\n",
       "       [0.07664371]])"
      ]
     },
     "execution_count": 16,
     "metadata": {},
     "output_type": "execute_result"
    }
   ],
   "source": [
    "# df1 got transformed between 0-1, with a scaler factor, which is individual for every stock\n",
    "df1"
   ]
  },
  {
   "cell_type": "code",
   "execution_count": 17,
   "id": "7e897624",
   "metadata": {},
   "outputs": [],
   "source": [
    "# Splitting dataset into train and test\n",
    "training_size = int(len(df1)*0.65)\n",
    "test_size = len(df1)-training_size\n",
    "train_data, test_data = df1[0:training_size, :], df1[training_size:len(df1), :1]"
   ]
  },
  {
   "cell_type": "code",
   "execution_count": 19,
   "id": "730600c2",
   "metadata": {},
   "outputs": [
    {
     "data": {
      "text/plain": [
       "(817, 441)"
      ]
     },
     "execution_count": 19,
     "metadata": {},
     "output_type": "execute_result"
    }
   ],
   "source": [
    "len(train_data), len(test_data)"
   ]
  },
  {
   "cell_type": "code",
   "execution_count": 20,
   "id": "dab2ecea",
   "metadata": {},
   "outputs": [],
   "source": [
    "import numpy\n",
    "# Converting an array of closing values into a dataset matrix\n",
    "def create_dataset(dataset, time_step=1):\n",
    "    dataX, dataY = [],[]\n",
    "    for i in range(len(dataset)-time_step-1):\n",
    "        a = dataset[i:(i+time_step), 0]\n",
    "        dataX.append(a)\n",
    "        dataY.append(dataset[i+time_step,0])\n",
    "    return numpy.array(dataX), numpy.array(dataY)"
   ]
  },
  {
   "cell_type": "code",
   "execution_count": 21,
   "id": "6e62bf9f",
   "metadata": {},
   "outputs": [],
   "source": [
    "# Reshape into x=t, t+1, t+2, t+3 and Y = t+4, the the value of time_step is 3\n",
    "time_step = 100\n",
    "X_train, y_train= create_dataset(train_data, time_step)\n",
    "X_test, y_test = create_dataset(test_data, time_step)"
   ]
  },
  {
   "cell_type": "code",
   "execution_count": 24,
   "id": "b97e2db0",
   "metadata": {},
   "outputs": [
    {
     "name": "stdout",
     "output_type": "stream",
     "text": [
      "(716, 100)\n",
      "(716,)\n"
     ]
    },
    {
     "data": {
      "text/plain": [
       "(None, None)"
      ]
     },
     "execution_count": 24,
     "metadata": {},
     "output_type": "execute_result"
    }
   ],
   "source": [
    "print(X_train.shape), print(y_train.shape)\n",
    "# x_trian --> 100 features, y_train --> 1\n",
    "# total features --> 716"
   ]
  },
  {
   "cell_type": "code",
   "execution_count": 25,
   "id": "fa222a20",
   "metadata": {},
   "outputs": [],
   "source": [
    "# Reshaping the input of X_train to a 3 Dimensional dataframe which is requirement for LSTM model\n",
    "X_train= X_train.reshape(X_train.shape[0], X_train.shape[1], 1)\n",
    "X_test= X_test.reshape(X_test.shape[0], X_test.shape[1], 1)"
   ]
  },
  {
   "cell_type": "code",
   "execution_count": 26,
   "id": "49c77051",
   "metadata": {},
   "outputs": [
    {
     "name": "stdout",
     "output_type": "stream",
     "text": [
      "(716, 100, 1)\n",
      "(340, 100, 1)\n"
     ]
    },
    {
     "data": {
      "text/plain": [
       "(None, None)"
      ]
     },
     "execution_count": 26,
     "metadata": {},
     "output_type": "execute_result"
    }
   ],
   "source": [
    "print(X_train.shape), print(X_test.shape)"
   ]
  },
  {
   "cell_type": "code",
   "execution_count": 28,
   "id": "5a4f0cd3",
   "metadata": {},
   "outputs": [],
   "source": [
    "# Creating Stacked LSTM Model\n",
    "from tensorflow.keras.models import Sequential\n",
    "from tensorflow.keras.layers import Dense\n",
    "from tensorflow.keras.layers import LSTM"
   ]
  },
  {
   "cell_type": "code",
   "execution_count": 29,
   "id": "4d6ef870",
   "metadata": {},
   "outputs": [],
   "source": [
    "model=Sequential()\n",
    "model.add(LSTM(50, return_sequences=True, input_shape=(100,1))) #100,1 is the shape of x_train\n",
    "model.add(LSTM(50, return_sequences=True))\n",
    "model.add(LSTM(50))\n",
    "model.add(Dense(1))\n",
    "model.compile(loss='mean_squared_error', optimizer='adam')"
   ]
  },
  {
   "cell_type": "code",
   "execution_count": 30,
   "id": "5e7f2374",
   "metadata": {},
   "outputs": [
    {
     "name": "stdout",
     "output_type": "stream",
     "text": [
      "Model: \"sequential\"\n",
      "_________________________________________________________________\n",
      " Layer (type)                Output Shape              Param #   \n",
      "=================================================================\n",
      " lstm (LSTM)                 (None, 100, 50)           10400     \n",
      "                                                                 \n",
      " lstm_1 (LSTM)               (None, 100, 50)           20200     \n",
      "                                                                 \n",
      " lstm_2 (LSTM)               (None, 50)                20200     \n",
      "                                                                 \n",
      " dense (Dense)               (None, 1)                 51        \n",
      "                                                                 \n",
      "=================================================================\n",
      "Total params: 50,851\n",
      "Trainable params: 50,851\n",
      "Non-trainable params: 0\n",
      "_________________________________________________________________\n"
     ]
    }
   ],
   "source": [
    "model.summary()"
   ]
  },
  {
   "cell_type": "code",
   "execution_count": 31,
   "id": "facddf11",
   "metadata": {},
   "outputs": [
    {
     "name": "stdout",
     "output_type": "stream",
     "text": [
      "Epoch 1/100\n",
      "12/12 [==============================] - 12s 372ms/step - loss: 0.0348 - val_loss: 0.0012\n",
      "Epoch 2/100\n",
      "12/12 [==============================] - 2s 206ms/step - loss: 0.0166 - val_loss: 0.0094\n",
      "Epoch 3/100\n",
      "12/12 [==============================] - 2s 210ms/step - loss: 0.0121 - val_loss: 0.0012\n",
      "Epoch 4/100\n",
      "12/12 [==============================] - 2s 208ms/step - loss: 0.0098 - val_loss: 0.0025\n",
      "Epoch 5/100\n",
      "12/12 [==============================] - 2s 202ms/step - loss: 0.0089 - val_loss: 5.1829e-04\n",
      "Epoch 6/100\n",
      "12/12 [==============================] - 2s 200ms/step - loss: 0.0083 - val_loss: 3.0249e-04\n",
      "Epoch 7/100\n",
      "12/12 [==============================] - 3s 234ms/step - loss: 0.0074 - val_loss: 5.3227e-04\n",
      "Epoch 8/100\n",
      "12/12 [==============================] - 3s 216ms/step - loss: 0.0074 - val_loss: 6.3041e-04\n",
      "Epoch 9/100\n",
      "12/12 [==============================] - 3s 226ms/step - loss: 0.0079 - val_loss: 2.3525e-04\n",
      "Epoch 10/100\n",
      "12/12 [==============================] - 2s 203ms/step - loss: 0.0059 - val_loss: 2.2692e-04\n",
      "Epoch 11/100\n",
      "12/12 [==============================] - 2s 205ms/step - loss: 0.0047 - val_loss: 3.1524e-04\n",
      "Epoch 12/100\n",
      "12/12 [==============================] - 3s 223ms/step - loss: 0.0041 - val_loss: 6.7666e-04\n",
      "Epoch 13/100\n",
      "12/12 [==============================] - 3s 215ms/step - loss: 0.0036 - val_loss: 5.3045e-04\n",
      "Epoch 14/100\n",
      "12/12 [==============================] - 3s 216ms/step - loss: 0.0034 - val_loss: 9.6932e-04\n",
      "Epoch 15/100\n",
      "12/12 [==============================] - 3s 219ms/step - loss: 0.0034 - val_loss: 3.8639e-04\n",
      "Epoch 16/100\n",
      "12/12 [==============================] - 3s 223ms/step - loss: 0.0042 - val_loss: 7.2091e-04\n",
      "Epoch 17/100\n",
      "12/12 [==============================] - 3s 217ms/step - loss: 0.0030 - val_loss: 8.0522e-04\n",
      "Epoch 18/100\n",
      "12/12 [==============================] - 3s 228ms/step - loss: 0.0030 - val_loss: 3.0636e-04\n",
      "Epoch 19/100\n",
      "12/12 [==============================] - 3s 215ms/step - loss: 0.0026 - val_loss: 3.0093e-04\n",
      "Epoch 20/100\n",
      "12/12 [==============================] - 3s 218ms/step - loss: 0.0027 - val_loss: 6.3482e-04\n",
      "Epoch 21/100\n",
      "12/12 [==============================] - 3s 217ms/step - loss: 0.0033 - val_loss: 2.0414e-04\n",
      "Epoch 22/100\n",
      "12/12 [==============================] - 2s 207ms/step - loss: 0.0026 - val_loss: 2.2131e-04\n",
      "Epoch 23/100\n",
      "12/12 [==============================] - 3s 219ms/step - loss: 0.0023 - val_loss: 2.6811e-04\n",
      "Epoch 24/100\n",
      "12/12 [==============================] - 3s 217ms/step - loss: 0.0021 - val_loss: 2.0508e-04\n",
      "Epoch 25/100\n",
      "12/12 [==============================] - 2s 210ms/step - loss: 0.0026 - val_loss: 2.0425e-04\n",
      "Epoch 26/100\n",
      "12/12 [==============================] - 2s 207ms/step - loss: 0.0021 - val_loss: 2.5126e-04\n",
      "Epoch 27/100\n",
      "12/12 [==============================] - 2s 206ms/step - loss: 0.0025 - val_loss: 3.3772e-04\n",
      "Epoch 28/100\n",
      "12/12 [==============================] - 2s 204ms/step - loss: 0.0024 - val_loss: 4.7869e-04\n",
      "Epoch 29/100\n",
      "12/12 [==============================] - 3s 219ms/step - loss: 0.0024 - val_loss: 3.7194e-04\n",
      "Epoch 30/100\n",
      "12/12 [==============================] - 3s 215ms/step - loss: 0.0027 - val_loss: 1.9789e-04\n",
      "Epoch 31/100\n",
      "12/12 [==============================] - 3s 221ms/step - loss: 0.0021 - val_loss: 2.0841e-04\n",
      "Epoch 32/100\n",
      "12/12 [==============================] - 3s 223ms/step - loss: 0.0019 - val_loss: 3.0440e-04\n",
      "Epoch 33/100\n",
      "12/12 [==============================] - 3s 232ms/step - loss: 0.0021 - val_loss: 3.4208e-04\n",
      "Epoch 34/100\n",
      "12/12 [==============================] - 3s 244ms/step - loss: 0.0037 - val_loss: 2.3412e-04\n",
      "Epoch 35/100\n",
      "12/12 [==============================] - 3s 218ms/step - loss: 0.0027 - val_loss: 2.5567e-04\n",
      "Epoch 36/100\n",
      "12/12 [==============================] - 3s 216ms/step - loss: 0.0021 - val_loss: 2.6744e-04\n",
      "Epoch 37/100\n",
      "12/12 [==============================] - 3s 222ms/step - loss: 0.0020 - val_loss: 3.0280e-04\n",
      "Epoch 38/100\n",
      "12/12 [==============================] - 3s 215ms/step - loss: 0.0017 - val_loss: 2.1276e-04\n",
      "Epoch 39/100\n",
      "12/12 [==============================] - 2s 209ms/step - loss: 0.0018 - val_loss: 2.5173e-04\n",
      "Epoch 40/100\n",
      "12/12 [==============================] - 2s 206ms/step - loss: 0.0027 - val_loss: 5.5838e-04\n",
      "Epoch 41/100\n",
      "12/12 [==============================] - 3s 236ms/step - loss: 0.0018 - val_loss: 2.5912e-04\n",
      "Epoch 42/100\n",
      "12/12 [==============================] - 3s 236ms/step - loss: 0.0022 - val_loss: 2.4055e-04\n",
      "Epoch 43/100\n",
      "12/12 [==============================] - 3s 222ms/step - loss: 0.0035 - val_loss: 4.1898e-04\n",
      "Epoch 44/100\n",
      "12/12 [==============================] - 3s 221ms/step - loss: 0.0040 - val_loss: 0.0013\n",
      "Epoch 45/100\n",
      "12/12 [==============================] - 2s 190ms/step - loss: 0.0032 - val_loss: 2.2585e-04\n",
      "Epoch 46/100\n",
      "12/12 [==============================] - 2s 193ms/step - loss: 0.0019 - val_loss: 2.2115e-04\n",
      "Epoch 47/100\n",
      "12/12 [==============================] - 2s 185ms/step - loss: 0.0019 - val_loss: 2.3752e-04\n",
      "Epoch 48/100\n",
      "12/12 [==============================] - 2s 183ms/step - loss: 0.0018 - val_loss: 1.9559e-04\n",
      "Epoch 49/100\n",
      "12/12 [==============================] - 2s 182ms/step - loss: 0.0017 - val_loss: 2.0191e-04\n",
      "Epoch 50/100\n",
      "12/12 [==============================] - 2s 181ms/step - loss: 0.0017 - val_loss: 1.9732e-04\n",
      "Epoch 51/100\n",
      "12/12 [==============================] - 2s 185ms/step - loss: 0.0015 - val_loss: 3.5893e-04\n",
      "Epoch 52/100\n",
      "12/12 [==============================] - 2s 183ms/step - loss: 0.0016 - val_loss: 2.0561e-04\n",
      "Epoch 53/100\n",
      "12/12 [==============================] - 2s 181ms/step - loss: 0.0015 - val_loss: 2.0700e-04\n",
      "Epoch 54/100\n",
      "12/12 [==============================] - 2s 182ms/step - loss: 0.0019 - val_loss: 2.3781e-04\n",
      "Epoch 55/100\n",
      "12/12 [==============================] - 2s 179ms/step - loss: 0.0016 - val_loss: 2.3640e-04\n",
      "Epoch 56/100\n",
      "12/12 [==============================] - 2s 181ms/step - loss: 0.0016 - val_loss: 2.8868e-04\n",
      "Epoch 57/100\n",
      "12/12 [==============================] - 2s 185ms/step - loss: 0.0017 - val_loss: 2.6022e-04\n",
      "Epoch 58/100\n",
      "12/12 [==============================] - 2s 180ms/step - loss: 0.0014 - val_loss: 2.0273e-04\n",
      "Epoch 59/100\n",
      "12/12 [==============================] - 2s 179ms/step - loss: 0.0015 - val_loss: 2.9484e-04\n",
      "Epoch 60/100\n",
      "12/12 [==============================] - 2s 185ms/step - loss: 0.0014 - val_loss: 2.2679e-04\n",
      "Epoch 61/100\n",
      "12/12 [==============================] - 2s 180ms/step - loss: 0.0016 - val_loss: 2.0639e-04\n",
      "Epoch 62/100\n",
      "12/12 [==============================] - 2s 180ms/step - loss: 0.0015 - val_loss: 2.2116e-04\n",
      "Epoch 63/100\n",
      "12/12 [==============================] - 2s 178ms/step - loss: 0.0016 - val_loss: 2.7317e-04\n",
      "Epoch 64/100\n",
      "12/12 [==============================] - 2s 178ms/step - loss: 0.0012 - val_loss: 2.0761e-04\n",
      "Epoch 65/100\n",
      "12/12 [==============================] - 2s 182ms/step - loss: 0.0018 - val_loss: 3.9000e-04\n",
      "Epoch 66/100\n",
      "12/12 [==============================] - 2s 186ms/step - loss: 0.0029 - val_loss: 2.1321e-04\n",
      "Epoch 67/100\n",
      "12/12 [==============================] - 2s 181ms/step - loss: 0.0019 - val_loss: 2.1299e-04\n",
      "Epoch 68/100\n",
      "12/12 [==============================] - 2s 178ms/step - loss: 0.0025 - val_loss: 7.3283e-04\n",
      "Epoch 69/100\n",
      "12/12 [==============================] - 2s 178ms/step - loss: 0.0015 - val_loss: 2.2572e-04\n",
      "Epoch 70/100\n",
      "12/12 [==============================] - 2s 186ms/step - loss: 0.0018 - val_loss: 2.3222e-04\n",
      "Epoch 71/100\n",
      "12/12 [==============================] - 2s 180ms/step - loss: 0.0017 - val_loss: 2.2541e-04\n",
      "Epoch 72/100\n",
      "12/12 [==============================] - 2s 180ms/step - loss: 0.0013 - val_loss: 2.8711e-04\n",
      "Epoch 73/100\n",
      "12/12 [==============================] - 2s 178ms/step - loss: 0.0056 - val_loss: 0.0038\n",
      "Epoch 74/100\n",
      "12/12 [==============================] - 2s 188ms/step - loss: 0.0051 - val_loss: 0.0011\n",
      "Epoch 75/100\n",
      "12/12 [==============================] - 2s 178ms/step - loss: 0.0030 - val_loss: 5.4288e-04\n",
      "Epoch 76/100\n",
      "12/12 [==============================] - 2s 178ms/step - loss: 0.0038 - val_loss: 2.2437e-04\n",
      "Epoch 77/100\n",
      "12/12 [==============================] - 2s 179ms/step - loss: 0.0040 - val_loss: 7.4319e-04\n",
      "Epoch 78/100\n"
     ]
    },
    {
     "name": "stdout",
     "output_type": "stream",
     "text": [
      "12/12 [==============================] - 2s 178ms/step - loss: 0.0046 - val_loss: 4.5078e-04\n",
      "Epoch 79/100\n",
      "12/12 [==============================] - 2s 176ms/step - loss: 0.0030 - val_loss: 0.0023\n",
      "Epoch 80/100\n",
      "12/12 [==============================] - 2s 179ms/step - loss: 0.0040 - val_loss: 4.0353e-04\n",
      "Epoch 81/100\n",
      "12/12 [==============================] - 2s 179ms/step - loss: 0.0027 - val_loss: 4.2705e-04\n",
      "Epoch 82/100\n",
      "12/12 [==============================] - 2s 178ms/step - loss: 0.0021 - val_loss: 2.3627e-04\n",
      "Epoch 83/100\n",
      "12/12 [==============================] - 2s 179ms/step - loss: 0.0018 - val_loss: 2.9477e-04\n",
      "Epoch 84/100\n",
      "12/12 [==============================] - 2s 183ms/step - loss: 0.0017 - val_loss: 2.3396e-04\n",
      "Epoch 85/100\n",
      "12/12 [==============================] - 2s 177ms/step - loss: 0.0014 - val_loss: 1.8150e-04\n",
      "Epoch 86/100\n",
      "12/12 [==============================] - 2s 176ms/step - loss: 0.0014 - val_loss: 2.1623e-04\n",
      "Epoch 87/100\n",
      "12/12 [==============================] - 2s 179ms/step - loss: 0.0014 - val_loss: 1.9725e-04\n",
      "Epoch 88/100\n",
      "12/12 [==============================] - 2s 182ms/step - loss: 0.0013 - val_loss: 2.1723e-04\n",
      "Epoch 89/100\n",
      "12/12 [==============================] - 2s 179ms/step - loss: 0.0012 - val_loss: 2.2978e-04\n",
      "Epoch 90/100\n",
      "12/12 [==============================] - 2s 177ms/step - loss: 0.0021 - val_loss: 9.6865e-04\n",
      "Epoch 91/100\n",
      "12/12 [==============================] - 2s 177ms/step - loss: 0.0024 - val_loss: 2.2588e-04\n",
      "Epoch 92/100\n",
      "12/12 [==============================] - 2s 176ms/step - loss: 0.0014 - val_loss: 1.9656e-04\n",
      "Epoch 93/100\n",
      "12/12 [==============================] - 2s 178ms/step - loss: 0.0013 - val_loss: 1.9671e-04\n",
      "Epoch 94/100\n",
      "12/12 [==============================] - 2s 178ms/step - loss: 0.0012 - val_loss: 2.9358e-04\n",
      "Epoch 95/100\n",
      "12/12 [==============================] - 2s 177ms/step - loss: 0.0012 - val_loss: 2.8095e-04\n",
      "Epoch 96/100\n",
      "12/12 [==============================] - 2s 180ms/step - loss: 0.0013 - val_loss: 2.6209e-04\n",
      "Epoch 97/100\n",
      "12/12 [==============================] - 2s 178ms/step - loss: 0.0044 - val_loss: 0.0013\n",
      "Epoch 98/100\n",
      "12/12 [==============================] - 2s 178ms/step - loss: 0.0045 - val_loss: 0.0012\n",
      "Epoch 99/100\n",
      "12/12 [==============================] - 2s 177ms/step - loss: 0.0041 - val_loss: 2.8717e-04\n",
      "Epoch 100/100\n",
      "12/12 [==============================] - 2s 176ms/step - loss: 0.0047 - val_loss: 0.0030\n"
     ]
    },
    {
     "data": {
      "text/plain": [
       "<keras.callbacks.History at 0x1c946bef9d0>"
      ]
     },
     "execution_count": 31,
     "metadata": {},
     "output_type": "execute_result"
    }
   ],
   "source": [
    "# Fitting the data\n",
    "model.fit(X_train, y_train, validation_data=(X_test, y_test), epochs=100, batch_size=64, verbose=1)"
   ]
  },
  {
   "cell_type": "code",
   "execution_count": 33,
   "id": "5d6069fb",
   "metadata": {},
   "outputs": [],
   "source": [
    "import tensorflow as tf"
   ]
  },
  {
   "cell_type": "code",
   "execution_count": 34,
   "id": "cf2fb28c",
   "metadata": {},
   "outputs": [
    {
     "data": {
      "text/plain": [
       "'2.9.1'"
      ]
     },
     "execution_count": 34,
     "metadata": {},
     "output_type": "execute_result"
    }
   ],
   "source": [
    "tf.__version__"
   ]
  },
  {
   "cell_type": "code",
   "execution_count": 35,
   "id": "85aef41e",
   "metadata": {},
   "outputs": [
    {
     "name": "stdout",
     "output_type": "stream",
     "text": [
      "23/23 [==============================] - 3s 41ms/step\n",
      "11/11 [==============================] - 0s 39ms/step\n"
     ]
    }
   ],
   "source": [
    "# Doing the prediction and checking performance metrics\n",
    "train_predict = model.predict(X_train)\n",
    "test_predict = model.predict(X_test)"
   ]
  },
  {
   "cell_type": "code",
   "execution_count": 36,
   "id": "7249bd04",
   "metadata": {},
   "outputs": [],
   "source": [
    "#Transforming back to the original values from the MinMax scaler\n",
    "train_predict = scaler.inverse_transform(train_predict)\n",
    "test_predict = scaler.inverse_transform(test_predict)"
   ]
  },
  {
   "cell_type": "code",
   "execution_count": 42,
   "id": "37767440",
   "metadata": {},
   "outputs": [
    {
     "data": {
      "text/plain": [
       "246.1779187307414"
      ]
     },
     "execution_count": 42,
     "metadata": {},
     "output_type": "execute_result"
    }
   ],
   "source": [
    "# Calculating RMSE Performance Metrics\n",
    "import math\n",
    "from sklearn.metrics import mean_squared_error\n",
    "math.sqrt(mean_squared_error(y_train, train_predict))"
   ]
  },
  {
   "cell_type": "code",
   "execution_count": 43,
   "id": "11e4d538",
   "metadata": {},
   "outputs": [
    {
     "data": {
      "text/plain": [
       "170.55629685121866"
      ]
     },
     "execution_count": 43,
     "metadata": {},
     "output_type": "execute_result"
    }
   ],
   "source": [
    "# Test Data RMSE\n",
    "math.sqrt(mean_squared_error(y_test, test_predict))"
   ]
  },
  {
   "cell_type": "code",
   "execution_count": 44,
   "id": "38ec6539",
   "metadata": {},
   "outputs": [
    {
     "data": {
      "image/png": "[encoded data removed]",
      "text/plain": [
       "<Figure size 432x288 with 1 Axes>"
      ]
     },
     "metadata": {
      "needs_background": "light"
     },
     "output_type": "display_data"
    }
   ],
   "source": [
    "### Plotting \n",
    "# shift train predictions for plotting\n",
    "look_back=100\n",
    "trainPredictPlot = numpy.empty_like(df1)\n",
    "trainPredictPlot[:, :] = np.nan\n",
    "trainPredictPlot[look_back:len(train_predict)+look_back, :] = train_predict\n",
    "# shift test predictions for plotting\n",
    "testPredictPlot = numpy.empty_like(df1)\n",
    "testPredictPlot[:, :] = numpy.nan\n",
    "testPredictPlot[len(train_predict)+(look_back*2)+1:len(df1)-1, :] = test_predict\n",
    "# plot baseline and predictions\n",
    "plt.plot(scaler.inverse_transform(df1))\n",
    "plt.plot(trainPredictPlot)\n",
    "plt.plot(testPredictPlot)\n",
    "plt.show()"
   ]
  },
  {
   "cell_type": "code",
   "execution_count": 47,
   "id": "2d57e6a2",
   "metadata": {},
   "outputs": [
    {
     "data": {
      "text/plain": [
       "(1, 100)"
      ]
     },
     "execution_count": 47,
     "metadata": {},
     "output_type": "execute_result"
    }
   ],
   "source": [
    "x_input=test_data[341:].reshape(1,-1)\n",
    "x_input.shape"
   ]
  },
  {
   "cell_type": "code",
   "execution_count": 48,
   "id": "161a848c",
   "metadata": {},
   "outputs": [],
   "source": [
    "temp_input=list(x_input)\n",
    "temp_input=temp_input[0].tolist()"
   ]
  },
  {
   "cell_type": "code",
   "execution_count": 49,
   "id": "31474131",
   "metadata": {},
   "outputs": [
    {
     "name": "stdout",
     "output_type": "stream",
     "text": [
      "[0.12752202]\n",
      "101\n",
      "1 day input [0.16418284 0.16235441 0.1702943  0.17392611 0.16350657 0.15479023\n",
      " 0.15539136 0.16518472 0.16458359 0.15539136 0.15143394 0.14396994\n",
      " 0.13332498 0.14001252 0.14529743 0.1459737  0.14116468 0.14958046\n",
      " 0.14875391 0.14108954 0.13139637 0.12673763 0.14053851 0.12944271\n",
      " 0.11994991 0.1096556  0.1208516  0.13212273 0.13470257 0.14311835\n",
      " 0.14662492 0.15524108 0.1587226  0.16839073 0.17001879 0.17222292\n",
      " 0.1806387  0.17765811 0.16974327 0.16899186 0.17933626 0.17087038\n",
      " 0.16278021 0.16355667 0.15842204 0.14755166 0.15233563 0.1591985\n",
      " 0.1463995  0.14584847 0.15168441 0.15125861 0.14922981 0.13763306\n",
      " 0.14036318 0.12513463 0.12455855 0.14226675 0.12726362 0.12804008\n",
      " 0.13184721 0.14822793 0.12505949 0.12633688 0.11326237 0.11939887\n",
      " 0.09933626 0.08946775 0.10086412 0.09693175 0.10619912 0.08510958\n",
      " 0.07641828 0.07701941 0.09084534 0.08395742 0.08435817 0.09252348\n",
      " 0.107201   0.10519724 0.10487163 0.11113338 0.096531   0.09843456\n",
      " 0.10487163 0.10299311 0.08966813 0.07586725 0.0627176  0.06492173\n",
      " 0.07160927 0.05815905 0.06191609 0.07271133 0.07140889 0.0787226\n",
      " 0.08721353 0.08721353 0.07664371 0.12752202]\n",
      "1 day output [[0.13247336]]\n",
      "2 day input [0.16235441 0.1702943  0.17392611 0.16350657 0.15479023 0.15539136\n",
      " 0.16518472 0.16458359 0.15539136 0.15143394 0.14396994 0.13332498\n",
      " 0.14001252 0.14529743 0.1459737  0.14116468 0.14958046 0.14875391\n",
      " 0.14108954 0.13139637 0.12673763 0.14053851 0.12944271 0.11994991\n",
      " 0.1096556  0.1208516  0.13212273 0.13470257 0.14311835 0.14662492\n",
      " 0.15524108 0.1587226  0.16839073 0.17001879 0.17222292 0.1806387\n",
      " 0.17765811 0.16974327 0.16899186 0.17933626 0.17087038 0.16278021\n",
      " 0.16355667 0.15842204 0.14755166 0.15233563 0.1591985  0.1463995\n",
      " 0.14584847 0.15168441 0.15125861 0.14922981 0.13763306 0.14036318\n",
      " 0.12513463 0.12455855 0.14226675 0.12726362 0.12804008 0.13184721\n",
      " 0.14822793 0.12505949 0.12633688 0.11326237 0.11939887 0.09933626\n",
      " 0.08946775 0.10086412 0.09693175 0.10619912 0.08510958 0.07641828\n",
      " 0.07701941 0.09084534 0.08395742 0.08435817 0.09252348 0.107201\n",
      " 0.10519724 0.10487163 0.11113338 0.096531   0.09843456 0.10487163\n",
      " 0.10299311 0.08966813 0.07586725 0.0627176  0.06492173 0.07160927\n",
      " 0.05815905 0.06191609 0.07271133 0.07140889 0.0787226  0.08721353\n",
      " 0.08721353 0.07664371 0.12752202 0.13247336]\n",
      "2 day output [[0.13985237]]\n",
      "3 day input [0.1702943  0.17392611 0.16350657 0.15479023 0.15539136 0.16518472\n",
      " 0.16458359 0.15539136 0.15143394 0.14396994 0.13332498 0.14001252\n",
      " 0.14529743 0.1459737  0.14116468 0.14958046 0.14875391 0.14108954\n",
      " 0.13139637 0.12673763 0.14053851 0.12944271 0.11994991 0.1096556\n",
      " 0.1208516  0.13212273 0.13470257 0.14311835 0.14662492 0.15524108\n",
      " 0.1587226  0.16839073 0.17001879 0.17222292 0.1806387  0.17765811\n",
      " 0.16974327 0.16899186 0.17933626 0.17087038 0.16278021 0.16355667\n",
      " 0.15842204 0.14755166 0.15233563 0.1591985  0.1463995  0.14584847\n",
      " 0.15168441 0.15125861 0.14922981 0.13763306 0.14036318 0.12513463\n",
      " 0.12455855 0.14226675 0.12726362 0.12804008 0.13184721 0.14822793\n",
      " 0.12505949 0.12633688 0.11326237 0.11939887 0.09933626 0.08946775\n",
      " 0.10086412 0.09693175 0.10619912 0.08510958 0.07641828 0.07701941\n",
      " 0.09084534 0.08395742 0.08435817 0.09252348 0.107201   0.10519724\n",
      " 0.10487163 0.11113338 0.096531   0.09843456 0.10487163 0.10299311\n",
      " 0.08966813 0.07586725 0.0627176  0.06492173 0.07160927 0.05815905\n",
      " 0.06191609 0.07271133 0.07140889 0.0787226  0.08721353 0.08721353\n",
      " 0.07664371 0.12752202 0.13247336 0.13985237]\n",
      "3 day output [[0.14916879]]\n",
      "4 day input [0.17392611 0.16350657 0.15479023 0.15539136 0.16518472 0.16458359\n",
      " 0.15539136 0.15143394 0.14396994 0.13332498 0.14001252 0.14529743\n",
      " 0.1459737  0.14116468 0.14958046 0.14875391 0.14108954 0.13139637\n",
      " 0.12673763 0.14053851 0.12944271 0.11994991 0.1096556  0.1208516\n",
      " 0.13212273 0.13470257 0.14311835 0.14662492 0.15524108 0.1587226\n",
      " 0.16839073 0.17001879 0.17222292 0.1806387  0.17765811 0.16974327\n",
      " 0.16899186 0.17933626 0.17087038 0.16278021 0.16355667 0.15842204\n",
      " 0.14755166 0.15233563 0.1591985  0.1463995  0.14584847 0.15168441\n",
      " 0.15125861 0.14922981 0.13763306 0.14036318 0.12513463 0.12455855\n",
      " 0.14226675 0.12726362 0.12804008 0.13184721 0.14822793 0.12505949\n",
      " 0.12633688 0.11326237 0.11939887 0.09933626 0.08946775 0.10086412\n",
      " 0.09693175 0.10619912 0.08510958 0.07641828 0.07701941 0.09084534\n",
      " 0.08395742 0.08435817 0.09252348 0.107201   0.10519724 0.10487163\n",
      " 0.11113338 0.096531   0.09843456 0.10487163 0.10299311 0.08966813\n",
      " 0.07586725 0.0627176  0.06492173 0.07160927 0.05815905 0.06191609\n",
      " 0.07271133 0.07140889 0.0787226  0.08721353 0.08721353 0.07664371\n",
      " 0.12752202 0.13247336 0.13985237 0.14916879]\n",
      "4 day output [[0.159841]]\n",
      "5 day input [0.16350657 0.15479023 0.15539136 0.16518472 0.16458359 0.15539136\n",
      " 0.15143394 0.14396994 0.13332498 0.14001252 0.14529743 0.1459737\n",
      " 0.14116468 0.14958046 0.14875391 0.14108954 0.13139637 0.12673763\n",
      " 0.14053851 0.12944271 0.11994991 0.1096556  0.1208516  0.13212273\n",
      " 0.13470257 0.14311835 0.14662492 0.15524108 0.1587226  0.16839073\n",
      " 0.17001879 0.17222292 0.1806387  0.17765811 0.16974327 0.16899186\n",
      " 0.17933626 0.17087038 0.16278021 0.16355667 0.15842204 0.14755166\n",
      " 0.15233563 0.1591985  0.1463995  0.14584847 0.15168441 0.15125861\n",
      " 0.14922981 0.13763306 0.14036318 0.12513463 0.12455855 0.14226675\n",
      " 0.12726362 0.12804008 0.13184721 0.14822793 0.12505949 0.12633688\n",
      " 0.11326237 0.11939887 0.09933626 0.08946775 0.10086412 0.09693175\n",
      " 0.10619912 0.08510958 0.07641828 0.07701941 0.09084534 0.08395742\n",
      " 0.08435817 0.09252348 0.107201   0.10519724 0.10487163 0.11113338\n",
      " 0.096531   0.09843456 0.10487163 0.10299311 0.08966813 0.07586725\n",
      " 0.0627176  0.06492173 0.07160927 0.05815905 0.06191609 0.07271133\n",
      " 0.07140889 0.0787226  0.08721353 0.08721353 0.07664371 0.12752202\n",
      " 0.13247336 0.13985237 0.14916879 0.159841  ]\n",
      "5 day output [[0.17137343]]\n",
      "6 day input [0.15479023 0.15539136 0.16518472 0.16458359 0.15539136 0.15143394\n",
      " 0.14396994 0.13332498 0.14001252 0.14529743 0.1459737  0.14116468\n",
      " 0.14958046 0.14875391 0.14108954 0.13139637 0.12673763 0.14053851\n",
      " 0.12944271 0.11994991 0.1096556  0.1208516  0.13212273 0.13470257\n",
      " 0.14311835 0.14662492 0.15524108 0.1587226  0.16839073 0.17001879\n",
      " 0.17222292 0.1806387  0.17765811 0.16974327 0.16899186 0.17933626\n",
      " 0.17087038 0.16278021 0.16355667 0.15842204 0.14755166 0.15233563\n",
      " 0.1591985  0.1463995  0.14584847 0.15168441 0.15125861 0.14922981\n",
      " 0.13763306 0.14036318 0.12513463 0.12455855 0.14226675 0.12726362\n",
      " 0.12804008 0.13184721 0.14822793 0.12505949 0.12633688 0.11326237\n",
      " 0.11939887 0.09933626 0.08946775 0.10086412 0.09693175 0.10619912\n",
      " 0.08510958 0.07641828 0.07701941 0.09084534 0.08395742 0.08435817\n",
      " 0.09252348 0.107201   0.10519724 0.10487163 0.11113338 0.096531\n",
      " 0.09843456 0.10487163 0.10299311 0.08966813 0.07586725 0.0627176\n",
      " 0.06492173 0.07160927 0.05815905 0.06191609 0.07271133 0.07140889\n",
      " 0.0787226  0.08721353 0.08721353 0.07664371 0.12752202 0.13247336\n",
      " 0.13985237 0.14916879 0.159841   0.17137343]\n",
      "6 day output [[0.18339406]]\n",
      "7 day input [0.15539136 0.16518472 0.16458359 0.15539136 0.15143394 0.14396994\n",
      " 0.13332498 0.14001252 0.14529743 0.1459737  0.14116468 0.14958046\n",
      " 0.14875391 0.14108954 0.13139637 0.12673763 0.14053851 0.12944271\n",
      " 0.11994991 0.1096556  0.1208516  0.13212273 0.13470257 0.14311835\n",
      " 0.14662492 0.15524108 0.1587226  0.16839073 0.17001879 0.17222292\n",
      " 0.1806387  0.17765811 0.16974327 0.16899186 0.17933626 0.17087038\n",
      " 0.16278021 0.16355667 0.15842204 0.14755166 0.15233563 0.1591985\n",
      " 0.1463995  0.14584847 0.15168441 0.15125861 0.14922981 0.13763306\n",
      " 0.14036318 0.12513463 0.12455855 0.14226675 0.12726362 0.12804008\n",
      " 0.13184721 0.14822793 0.12505949 0.12633688 0.11326237 0.11939887\n",
      " 0.09933626 0.08946775 0.10086412 0.09693175 0.10619912 0.08510958\n",
      " 0.07641828 0.07701941 0.09084534 0.08395742 0.08435817 0.09252348\n",
      " 0.107201   0.10519724 0.10487163 0.11113338 0.096531   0.09843456\n",
      " 0.10487163 0.10299311 0.08966813 0.07586725 0.0627176  0.06492173\n",
      " 0.07160927 0.05815905 0.06191609 0.07271133 0.07140889 0.0787226\n",
      " 0.08721353 0.08721353 0.07664371 0.12752202 0.13247336 0.13985237\n",
      " 0.14916879 0.159841   0.17137343 0.18339406]\n",
      "7 day output [[0.19563937]]\n",
      "8 day input [0.16518472 0.16458359 0.15539136 0.15143394 0.14396994 0.13332498\n",
      " 0.14001252 0.14529743 0.1459737  0.14116468 0.14958046 0.14875391\n",
      " 0.14108954 0.13139637 0.12673763 0.14053851 0.12944271 0.11994991\n",
      " 0.1096556  0.1208516  0.13212273 0.13470257 0.14311835 0.14662492\n",
      " 0.15524108 0.1587226  0.16839073 0.17001879 0.17222292 0.1806387\n",
      " 0.17765811 0.16974327 0.16899186 0.17933626 0.17087038 0.16278021\n",
      " 0.16355667 0.15842204 0.14755166 0.15233563 0.1591985  0.1463995\n",
      " 0.14584847 0.15168441 0.15125861 0.14922981 0.13763306 0.14036318\n",
      " 0.12513463 0.12455855 0.14226675 0.12726362 0.12804008 0.13184721\n",
      " 0.14822793 0.12505949 0.12633688 0.11326237 0.11939887 0.09933626\n",
      " 0.08946775 0.10086412 0.09693175 0.10619912 0.08510958 0.07641828\n",
      " 0.07701941 0.09084534 0.08395742 0.08435817 0.09252348 0.107201\n",
      " 0.10519724 0.10487163 0.11113338 0.096531   0.09843456 0.10487163\n",
      " 0.10299311 0.08966813 0.07586725 0.0627176  0.06492173 0.07160927\n",
      " 0.05815905 0.06191609 0.07271133 0.07140889 0.0787226  0.08721353\n",
      " 0.08721353 0.07664371 0.12752202 0.13247336 0.13985237 0.14916879\n",
      " 0.159841   0.17137343 0.18339406 0.19563937]\n",
      "8 day output [[0.20792598]]\n",
      "9 day input [0.16458359 0.15539136 0.15143394 0.14396994 0.13332498 0.14001252\n",
      " 0.14529743 0.1459737  0.14116468 0.14958046 0.14875391 0.14108954\n",
      " 0.13139637 0.12673763 0.14053851 0.12944271 0.11994991 0.1096556\n",
      " 0.1208516  0.13212273 0.13470257 0.14311835 0.14662492 0.15524108\n",
      " 0.1587226  0.16839073 0.17001879 0.17222292 0.1806387  0.17765811\n",
      " 0.16974327 0.16899186 0.17933626 0.17087038 0.16278021 0.16355667\n",
      " 0.15842204 0.14755166 0.15233563 0.1591985  0.1463995  0.14584847\n",
      " 0.15168441 0.15125861 0.14922981 0.13763306 0.14036318 0.12513463\n",
      " 0.12455855 0.14226675 0.12726362 0.12804008 0.13184721 0.14822793\n",
      " 0.12505949 0.12633688 0.11326237 0.11939887 0.09933626 0.08946775\n",
      " 0.10086412 0.09693175 0.10619912 0.08510958 0.07641828 0.07701941\n",
      " 0.09084534 0.08395742 0.08435817 0.09252348 0.107201   0.10519724\n",
      " 0.10487163 0.11113338 0.096531   0.09843456 0.10487163 0.10299311\n",
      " 0.08966813 0.07586725 0.0627176  0.06492173 0.07160927 0.05815905\n",
      " 0.06191609 0.07271133 0.07140889 0.0787226  0.08721353 0.08721353\n",
      " 0.07664371 0.12752202 0.13247336 0.13985237 0.14916879 0.159841\n",
      " 0.17137343 0.18339406 0.19563937 0.20792598]\n",
      "9 day output [[0.2201259]]\n",
      "10 day input [0.15539136 0.15143394 0.14396994 0.13332498 0.14001252 0.14529743\n",
      " 0.1459737  0.14116468 0.14958046 0.14875391 0.14108954 0.13139637\n",
      " 0.12673763 0.14053851 0.12944271 0.11994991 0.1096556  0.1208516\n",
      " 0.13212273 0.13470257 0.14311835 0.14662492 0.15524108 0.1587226\n",
      " 0.16839073 0.17001879 0.17222292 0.1806387  0.17765811 0.16974327\n",
      " 0.16899186 0.17933626 0.17087038 0.16278021 0.16355667 0.15842204\n",
      " 0.14755166 0.15233563 0.1591985  0.1463995  0.14584847 0.15168441\n",
      " 0.15125861 0.14922981 0.13763306 0.14036318 0.12513463 0.12455855\n",
      " 0.14226675 0.12726362 0.12804008 0.13184721 0.14822793 0.12505949\n",
      " 0.12633688 0.11326237 0.11939887 0.09933626 0.08946775 0.10086412\n",
      " 0.09693175 0.10619912 0.08510958 0.07641828 0.07701941 0.09084534\n",
      " 0.08395742 0.08435817 0.09252348 0.107201   0.10519724 0.10487163\n",
      " 0.11113338 0.096531   0.09843456 0.10487163 0.10299311 0.08966813\n",
      " 0.07586725 0.0627176  0.06492173 0.07160927 0.05815905 0.06191609\n",
      " 0.07271133 0.07140889 0.0787226  0.08721353 0.08721353 0.07664371\n",
      " 0.12752202 0.13247336 0.13985237 0.14916879 0.159841   0.17137343\n",
      " 0.18339406 0.19563937 0.20792598 0.2201259 ]\n",
      "10 day output [[0.23214817]]\n",
      "11 day input [0.15143394 0.14396994 0.13332498 0.14001252 0.14529743 0.1459737\n",
      " 0.14116468 0.14958046 0.14875391 0.14108954 0.13139637 0.12673763\n",
      " 0.14053851 0.12944271 0.11994991 0.1096556  0.1208516  0.13212273\n",
      " 0.13470257 0.14311835 0.14662492 0.15524108 0.1587226  0.16839073\n",
      " 0.17001879 0.17222292 0.1806387  0.17765811 0.16974327 0.16899186\n",
      " 0.17933626 0.17087038 0.16278021 0.16355667 0.15842204 0.14755166\n",
      " 0.15233563 0.1591985  0.1463995  0.14584847 0.15168441 0.15125861\n",
      " 0.14922981 0.13763306 0.14036318 0.12513463 0.12455855 0.14226675\n",
      " 0.12726362 0.12804008 0.13184721 0.14822793 0.12505949 0.12633688\n",
      " 0.11326237 0.11939887 0.09933626 0.08946775 0.10086412 0.09693175\n",
      " 0.10619912 0.08510958 0.07641828 0.07701941 0.09084534 0.08395742\n",
      " 0.08435817 0.09252348 0.107201   0.10519724 0.10487163 0.11113338\n",
      " 0.096531   0.09843456 0.10487163 0.10299311 0.08966813 0.07586725\n",
      " 0.0627176  0.06492173 0.07160927 0.05815905 0.06191609 0.07271133\n",
      " 0.07140889 0.0787226  0.08721353 0.08721353 0.07664371 0.12752202\n",
      " 0.13247336 0.13985237 0.14916879 0.159841   0.17137343 0.18339406\n",
      " 0.19563937 0.20792598 0.2201259  0.23214817]\n"
     ]
    },
    {
     "name": "stdout",
     "output_type": "stream",
     "text": [
      "11 day output [[0.24392778]]\n",
      "12 day input [0.14396994 0.13332498 0.14001252 0.14529743 0.1459737  0.14116468\n",
      " 0.14958046 0.14875391 0.14108954 0.13139637 0.12673763 0.14053851\n",
      " 0.12944271 0.11994991 0.1096556  0.1208516  0.13212273 0.13470257\n",
      " 0.14311835 0.14662492 0.15524108 0.1587226  0.16839073 0.17001879\n",
      " 0.17222292 0.1806387  0.17765811 0.16974327 0.16899186 0.17933626\n",
      " 0.17087038 0.16278021 0.16355667 0.15842204 0.14755166 0.15233563\n",
      " 0.1591985  0.1463995  0.14584847 0.15168441 0.15125861 0.14922981\n",
      " 0.13763306 0.14036318 0.12513463 0.12455855 0.14226675 0.12726362\n",
      " 0.12804008 0.13184721 0.14822793 0.12505949 0.12633688 0.11326237\n",
      " 0.11939887 0.09933626 0.08946775 0.10086412 0.09693175 0.10619912\n",
      " 0.08510958 0.07641828 0.07701941 0.09084534 0.08395742 0.08435817\n",
      " 0.09252348 0.107201   0.10519724 0.10487163 0.11113338 0.096531\n",
      " 0.09843456 0.10487163 0.10299311 0.08966813 0.07586725 0.0627176\n",
      " 0.06492173 0.07160927 0.05815905 0.06191609 0.07271133 0.07140889\n",
      " 0.0787226  0.08721353 0.08721353 0.07664371 0.12752202 0.13247336\n",
      " 0.13985237 0.14916879 0.159841   0.17137343 0.18339406 0.19563937\n",
      " 0.20792598 0.2201259  0.23214817 0.24392778]\n",
      "12 day output [[0.25541827]]\n",
      "13 day input [0.13332498 0.14001252 0.14529743 0.1459737  0.14116468 0.14958046\n",
      " 0.14875391 0.14108954 0.13139637 0.12673763 0.14053851 0.12944271\n",
      " 0.11994991 0.1096556  0.1208516  0.13212273 0.13470257 0.14311835\n",
      " 0.14662492 0.15524108 0.1587226  0.16839073 0.17001879 0.17222292\n",
      " 0.1806387  0.17765811 0.16974327 0.16899186 0.17933626 0.17087038\n",
      " 0.16278021 0.16355667 0.15842204 0.14755166 0.15233563 0.1591985\n",
      " 0.1463995  0.14584847 0.15168441 0.15125861 0.14922981 0.13763306\n",
      " 0.14036318 0.12513463 0.12455855 0.14226675 0.12726362 0.12804008\n",
      " 0.13184721 0.14822793 0.12505949 0.12633688 0.11326237 0.11939887\n",
      " 0.09933626 0.08946775 0.10086412 0.09693175 0.10619912 0.08510958\n",
      " 0.07641828 0.07701941 0.09084534 0.08395742 0.08435817 0.09252348\n",
      " 0.107201   0.10519724 0.10487163 0.11113338 0.096531   0.09843456\n",
      " 0.10487163 0.10299311 0.08966813 0.07586725 0.0627176  0.06492173\n",
      " 0.07160927 0.05815905 0.06191609 0.07271133 0.07140889 0.0787226\n",
      " 0.08721353 0.08721353 0.07664371 0.12752202 0.13247336 0.13985237\n",
      " 0.14916879 0.159841   0.17137343 0.18339406 0.19563937 0.20792598\n",
      " 0.2201259  0.23214817 0.24392778 0.25541827]\n",
      "13 day output [[0.26658806]]\n",
      "14 day input [0.14001252 0.14529743 0.1459737  0.14116468 0.14958046 0.14875391\n",
      " 0.14108954 0.13139637 0.12673763 0.14053851 0.12944271 0.11994991\n",
      " 0.1096556  0.1208516  0.13212273 0.13470257 0.14311835 0.14662492\n",
      " 0.15524108 0.1587226  0.16839073 0.17001879 0.17222292 0.1806387\n",
      " 0.17765811 0.16974327 0.16899186 0.17933626 0.17087038 0.16278021\n",
      " 0.16355667 0.15842204 0.14755166 0.15233563 0.1591985  0.1463995\n",
      " 0.14584847 0.15168441 0.15125861 0.14922981 0.13763306 0.14036318\n",
      " 0.12513463 0.12455855 0.14226675 0.12726362 0.12804008 0.13184721\n",
      " 0.14822793 0.12505949 0.12633688 0.11326237 0.11939887 0.09933626\n",
      " 0.08946775 0.10086412 0.09693175 0.10619912 0.08510958 0.07641828\n",
      " 0.07701941 0.09084534 0.08395742 0.08435817 0.09252348 0.107201\n",
      " 0.10519724 0.10487163 0.11113338 0.096531   0.09843456 0.10487163\n",
      " 0.10299311 0.08966813 0.07586725 0.0627176  0.06492173 0.07160927\n",
      " 0.05815905 0.06191609 0.07271133 0.07140889 0.0787226  0.08721353\n",
      " 0.08721353 0.07664371 0.12752202 0.13247336 0.13985237 0.14916879\n",
      " 0.159841   0.17137343 0.18339406 0.19563937 0.20792598 0.2201259\n",
      " 0.23214817 0.24392778 0.25541827 0.26658806]\n",
      "14 day output [[0.27741766]]\n",
      "15 day input [0.14529743 0.1459737  0.14116468 0.14958046 0.14875391 0.14108954\n",
      " 0.13139637 0.12673763 0.14053851 0.12944271 0.11994991 0.1096556\n",
      " 0.1208516  0.13212273 0.13470257 0.14311835 0.14662492 0.15524108\n",
      " 0.1587226  0.16839073 0.17001879 0.17222292 0.1806387  0.17765811\n",
      " 0.16974327 0.16899186 0.17933626 0.17087038 0.16278021 0.16355667\n",
      " 0.15842204 0.14755166 0.15233563 0.1591985  0.1463995  0.14584847\n",
      " 0.15168441 0.15125861 0.14922981 0.13763306 0.14036318 0.12513463\n",
      " 0.12455855 0.14226675 0.12726362 0.12804008 0.13184721 0.14822793\n",
      " 0.12505949 0.12633688 0.11326237 0.11939887 0.09933626 0.08946775\n",
      " 0.10086412 0.09693175 0.10619912 0.08510958 0.07641828 0.07701941\n",
      " 0.09084534 0.08395742 0.08435817 0.09252348 0.107201   0.10519724\n",
      " 0.10487163 0.11113338 0.096531   0.09843456 0.10487163 0.10299311\n",
      " 0.08966813 0.07586725 0.0627176  0.06492173 0.07160927 0.05815905\n",
      " 0.06191609 0.07271133 0.07140889 0.0787226  0.08721353 0.08721353\n",
      " 0.07664371 0.12752202 0.13247336 0.13985237 0.14916879 0.159841\n",
      " 0.17137343 0.18339406 0.19563937 0.20792598 0.2201259  0.23214817\n",
      " 0.24392778 0.25541827 0.26658806 0.27741766]\n",
      "15 day output [[0.2878977]]\n",
      "16 day input [0.1459737  0.14116468 0.14958046 0.14875391 0.14108954 0.13139637\n",
      " 0.12673763 0.14053851 0.12944271 0.11994991 0.1096556  0.1208516\n",
      " 0.13212273 0.13470257 0.14311835 0.14662492 0.15524108 0.1587226\n",
      " 0.16839073 0.17001879 0.17222292 0.1806387  0.17765811 0.16974327\n",
      " 0.16899186 0.17933626 0.17087038 0.16278021 0.16355667 0.15842204\n",
      " 0.14755166 0.15233563 0.1591985  0.1463995  0.14584847 0.15168441\n",
      " 0.15125861 0.14922981 0.13763306 0.14036318 0.12513463 0.12455855\n",
      " 0.14226675 0.12726362 0.12804008 0.13184721 0.14822793 0.12505949\n",
      " 0.12633688 0.11326237 0.11939887 0.09933626 0.08946775 0.10086412\n",
      " 0.09693175 0.10619912 0.08510958 0.07641828 0.07701941 0.09084534\n",
      " 0.08395742 0.08435817 0.09252348 0.107201   0.10519724 0.10487163\n",
      " 0.11113338 0.096531   0.09843456 0.10487163 0.10299311 0.08966813\n",
      " 0.07586725 0.0627176  0.06492173 0.07160927 0.05815905 0.06191609\n",
      " 0.07271133 0.07140889 0.0787226  0.08721353 0.08721353 0.07664371\n",
      " 0.12752202 0.13247336 0.13985237 0.14916879 0.159841   0.17137343\n",
      " 0.18339406 0.19563937 0.20792598 0.2201259  0.23214817 0.24392778\n",
      " 0.25541827 0.26658806 0.27741766 0.28789771]\n",
      "16 day output [[0.29802746]]\n",
      "17 day input [0.14116468 0.14958046 0.14875391 0.14108954 0.13139637 0.12673763\n",
      " 0.14053851 0.12944271 0.11994991 0.1096556  0.1208516  0.13212273\n",
      " 0.13470257 0.14311835 0.14662492 0.15524108 0.1587226  0.16839073\n",
      " 0.17001879 0.17222292 0.1806387  0.17765811 0.16974327 0.16899186\n",
      " 0.17933626 0.17087038 0.16278021 0.16355667 0.15842204 0.14755166\n",
      " 0.15233563 0.1591985  0.1463995  0.14584847 0.15168441 0.15125861\n",
      " 0.14922981 0.13763306 0.14036318 0.12513463 0.12455855 0.14226675\n",
      " 0.12726362 0.12804008 0.13184721 0.14822793 0.12505949 0.12633688\n",
      " 0.11326237 0.11939887 0.09933626 0.08946775 0.10086412 0.09693175\n",
      " 0.10619912 0.08510958 0.07641828 0.07701941 0.09084534 0.08395742\n",
      " 0.08435817 0.09252348 0.107201   0.10519724 0.10487163 0.11113338\n",
      " 0.096531   0.09843456 0.10487163 0.10299311 0.08966813 0.07586725\n",
      " 0.0627176  0.06492173 0.07160927 0.05815905 0.06191609 0.07271133\n",
      " 0.07140889 0.0787226  0.08721353 0.08721353 0.07664371 0.12752202\n",
      " 0.13247336 0.13985237 0.14916879 0.159841   0.17137343 0.18339406\n",
      " 0.19563937 0.20792598 0.2201259  0.23214817 0.24392778 0.25541827\n",
      " 0.26658806 0.27741766 0.28789771 0.29802746]\n",
      "17 day output [[0.30781344]]\n",
      "18 day input [0.14958046 0.14875391 0.14108954 0.13139637 0.12673763 0.14053851\n",
      " 0.12944271 0.11994991 0.1096556  0.1208516  0.13212273 0.13470257\n",
      " 0.14311835 0.14662492 0.15524108 0.1587226  0.16839073 0.17001879\n",
      " 0.17222292 0.1806387  0.17765811 0.16974327 0.16899186 0.17933626\n",
      " 0.17087038 0.16278021 0.16355667 0.15842204 0.14755166 0.15233563\n",
      " 0.1591985  0.1463995  0.14584847 0.15168441 0.15125861 0.14922981\n",
      " 0.13763306 0.14036318 0.12513463 0.12455855 0.14226675 0.12726362\n",
      " 0.12804008 0.13184721 0.14822793 0.12505949 0.12633688 0.11326237\n",
      " 0.11939887 0.09933626 0.08946775 0.10086412 0.09693175 0.10619912\n",
      " 0.08510958 0.07641828 0.07701941 0.09084534 0.08395742 0.08435817\n",
      " 0.09252348 0.107201   0.10519724 0.10487163 0.11113338 0.096531\n",
      " 0.09843456 0.10487163 0.10299311 0.08966813 0.07586725 0.0627176\n",
      " 0.06492173 0.07160927 0.05815905 0.06191609 0.07271133 0.07140889\n",
      " 0.0787226  0.08721353 0.08721353 0.07664371 0.12752202 0.13247336\n",
      " 0.13985237 0.14916879 0.159841   0.17137343 0.18339406 0.19563937\n",
      " 0.20792598 0.2201259  0.23214817 0.24392778 0.25541827 0.26658806\n",
      " 0.27741766 0.28789771 0.29802746 0.30781344]\n",
      "18 day output [[0.31726754]]\n",
      "19 day input [0.14875391 0.14108954 0.13139637 0.12673763 0.14053851 0.12944271\n",
      " 0.11994991 0.1096556  0.1208516  0.13212273 0.13470257 0.14311835\n",
      " 0.14662492 0.15524108 0.1587226  0.16839073 0.17001879 0.17222292\n",
      " 0.1806387  0.17765811 0.16974327 0.16899186 0.17933626 0.17087038\n",
      " 0.16278021 0.16355667 0.15842204 0.14755166 0.15233563 0.1591985\n",
      " 0.1463995  0.14584847 0.15168441 0.15125861 0.14922981 0.13763306\n",
      " 0.14036318 0.12513463 0.12455855 0.14226675 0.12726362 0.12804008\n",
      " 0.13184721 0.14822793 0.12505949 0.12633688 0.11326237 0.11939887\n",
      " 0.09933626 0.08946775 0.10086412 0.09693175 0.10619912 0.08510958\n",
      " 0.07641828 0.07701941 0.09084534 0.08395742 0.08435817 0.09252348\n",
      " 0.107201   0.10519724 0.10487163 0.11113338 0.096531   0.09843456\n",
      " 0.10487163 0.10299311 0.08966813 0.07586725 0.0627176  0.06492173\n",
      " 0.07160927 0.05815905 0.06191609 0.07271133 0.07140889 0.0787226\n",
      " 0.08721353 0.08721353 0.07664371 0.12752202 0.13247336 0.13985237\n",
      " 0.14916879 0.159841   0.17137343 0.18339406 0.19563937 0.20792598\n",
      " 0.2201259  0.23214817 0.24392778 0.25541827 0.26658806 0.27741766\n",
      " 0.28789771 0.29802746 0.30781344 0.31726754]\n",
      "19 day output [[0.32640573]]\n",
      "20 day input [0.14108954 0.13139637 0.12673763 0.14053851 0.12944271 0.11994991\n",
      " 0.1096556  0.1208516  0.13212273 0.13470257 0.14311835 0.14662492\n",
      " 0.15524108 0.1587226  0.16839073 0.17001879 0.17222292 0.1806387\n",
      " 0.17765811 0.16974327 0.16899186 0.17933626 0.17087038 0.16278021\n",
      " 0.16355667 0.15842204 0.14755166 0.15233563 0.1591985  0.1463995\n",
      " 0.14584847 0.15168441 0.15125861 0.14922981 0.13763306 0.14036318\n",
      " 0.12513463 0.12455855 0.14226675 0.12726362 0.12804008 0.13184721\n",
      " 0.14822793 0.12505949 0.12633688 0.11326237 0.11939887 0.09933626\n",
      " 0.08946775 0.10086412 0.09693175 0.10619912 0.08510958 0.07641828\n",
      " 0.07701941 0.09084534 0.08395742 0.08435817 0.09252348 0.107201\n",
      " 0.10519724 0.10487163 0.11113338 0.096531   0.09843456 0.10487163\n",
      " 0.10299311 0.08966813 0.07586725 0.0627176  0.06492173 0.07160927\n",
      " 0.05815905 0.06191609 0.07271133 0.07140889 0.0787226  0.08721353\n",
      " 0.08721353 0.07664371 0.12752202 0.13247336 0.13985237 0.14916879\n",
      " 0.159841   0.17137343 0.18339406 0.19563937 0.20792598 0.2201259\n",
      " 0.23214817 0.24392778 0.25541827 0.26658806 0.27741766 0.28789771\n",
      " 0.29802746 0.30781344 0.31726754 0.32640573]\n",
      "20 day output [[0.335247]]\n",
      "21 day input [0.13139637 0.12673763 0.14053851 0.12944271 0.11994991 0.1096556\n",
      " 0.1208516  0.13212273 0.13470257 0.14311835 0.14662492 0.15524108\n",
      " 0.1587226  0.16839073 0.17001879 0.17222292 0.1806387  0.17765811\n",
      " 0.16974327 0.16899186 0.17933626 0.17087038 0.16278021 0.16355667\n",
      " 0.15842204 0.14755166 0.15233563 0.1591985  0.1463995  0.14584847\n",
      " 0.15168441 0.15125861 0.14922981 0.13763306 0.14036318 0.12513463\n",
      " 0.12455855 0.14226675 0.12726362 0.12804008 0.13184721 0.14822793\n",
      " 0.12505949 0.12633688 0.11326237 0.11939887 0.09933626 0.08946775\n",
      " 0.10086412 0.09693175 0.10619912 0.08510958 0.07641828 0.07701941\n",
      " 0.09084534 0.08395742 0.08435817 0.09252348 0.107201   0.10519724\n",
      " 0.10487163 0.11113338 0.096531   0.09843456 0.10487163 0.10299311\n",
      " 0.08966813 0.07586725 0.0627176  0.06492173 0.07160927 0.05815905\n",
      " 0.06191609 0.07271133 0.07140889 0.0787226  0.08721353 0.08721353\n",
      " 0.07664371 0.12752202 0.13247336 0.13985237 0.14916879 0.159841\n",
      " 0.17137343 0.18339406 0.19563937 0.20792598 0.2201259  0.23214817\n",
      " 0.24392778 0.25541827 0.26658806 0.27741766 0.28789771 0.29802746\n",
      " 0.30781344 0.31726754 0.32640573 0.33524701]\n",
      "21 day output [[0.34381154]]\n"
     ]
    },
    {
     "name": "stdout",
     "output_type": "stream",
     "text": [
      "22 day input [0.12673763 0.14053851 0.12944271 0.11994991 0.1096556  0.1208516\n",
      " 0.13212273 0.13470257 0.14311835 0.14662492 0.15524108 0.1587226\n",
      " 0.16839073 0.17001879 0.17222292 0.1806387  0.17765811 0.16974327\n",
      " 0.16899186 0.17933626 0.17087038 0.16278021 0.16355667 0.15842204\n",
      " 0.14755166 0.15233563 0.1591985  0.1463995  0.14584847 0.15168441\n",
      " 0.15125861 0.14922981 0.13763306 0.14036318 0.12513463 0.12455855\n",
      " 0.14226675 0.12726362 0.12804008 0.13184721 0.14822793 0.12505949\n",
      " 0.12633688 0.11326237 0.11939887 0.09933626 0.08946775 0.10086412\n",
      " 0.09693175 0.10619912 0.08510958 0.07641828 0.07701941 0.09084534\n",
      " 0.08395742 0.08435817 0.09252348 0.107201   0.10519724 0.10487163\n",
      " 0.11113338 0.096531   0.09843456 0.10487163 0.10299311 0.08966813\n",
      " 0.07586725 0.0627176  0.06492173 0.07160927 0.05815905 0.06191609\n",
      " 0.07271133 0.07140889 0.0787226  0.08721353 0.08721353 0.07664371\n",
      " 0.12752202 0.13247336 0.13985237 0.14916879 0.159841   0.17137343\n",
      " 0.18339406 0.19563937 0.20792598 0.2201259  0.23214817 0.24392778\n",
      " 0.25541827 0.26658806 0.27741766 0.28789771 0.29802746 0.30781344\n",
      " 0.31726754 0.32640573 0.33524701 0.34381154]\n",
      "22 day output [[0.35212007]]\n",
      "23 day input [0.14053851 0.12944271 0.11994991 0.1096556  0.1208516  0.13212273\n",
      " 0.13470257 0.14311835 0.14662492 0.15524108 0.1587226  0.16839073\n",
      " 0.17001879 0.17222292 0.1806387  0.17765811 0.16974327 0.16899186\n",
      " 0.17933626 0.17087038 0.16278021 0.16355667 0.15842204 0.14755166\n",
      " 0.15233563 0.1591985  0.1463995  0.14584847 0.15168441 0.15125861\n",
      " 0.14922981 0.13763306 0.14036318 0.12513463 0.12455855 0.14226675\n",
      " 0.12726362 0.12804008 0.13184721 0.14822793 0.12505949 0.12633688\n",
      " 0.11326237 0.11939887 0.09933626 0.08946775 0.10086412 0.09693175\n",
      " 0.10619912 0.08510958 0.07641828 0.07701941 0.09084534 0.08395742\n",
      " 0.08435817 0.09252348 0.107201   0.10519724 0.10487163 0.11113338\n",
      " 0.096531   0.09843456 0.10487163 0.10299311 0.08966813 0.07586725\n",
      " 0.0627176  0.06492173 0.07160927 0.05815905 0.06191609 0.07271133\n",
      " 0.07140889 0.0787226  0.08721353 0.08721353 0.07664371 0.12752202\n",
      " 0.13247336 0.13985237 0.14916879 0.159841   0.17137343 0.18339406\n",
      " 0.19563937 0.20792598 0.2201259  0.23214817 0.24392778 0.25541827\n",
      " 0.26658806 0.27741766 0.28789771 0.29802746 0.30781344 0.31726754\n",
      " 0.32640573 0.33524701 0.34381154 0.35212007]\n",
      "23 day output [[0.36019263]]\n",
      "24 day input [0.12944271 0.11994991 0.1096556  0.1208516  0.13212273 0.13470257\n",
      " 0.14311835 0.14662492 0.15524108 0.1587226  0.16839073 0.17001879\n",
      " 0.17222292 0.1806387  0.17765811 0.16974327 0.16899186 0.17933626\n",
      " 0.17087038 0.16278021 0.16355667 0.15842204 0.14755166 0.15233563\n",
      " 0.1591985  0.1463995  0.14584847 0.15168441 0.15125861 0.14922981\n",
      " 0.13763306 0.14036318 0.12513463 0.12455855 0.14226675 0.12726362\n",
      " 0.12804008 0.13184721 0.14822793 0.12505949 0.12633688 0.11326237\n",
      " 0.11939887 0.09933626 0.08946775 0.10086412 0.09693175 0.10619912\n",
      " 0.08510958 0.07641828 0.07701941 0.09084534 0.08395742 0.08435817\n",
      " 0.09252348 0.107201   0.10519724 0.10487163 0.11113338 0.096531\n",
      " 0.09843456 0.10487163 0.10299311 0.08966813 0.07586725 0.0627176\n",
      " 0.06492173 0.07160927 0.05815905 0.06191609 0.07271133 0.07140889\n",
      " 0.0787226  0.08721353 0.08721353 0.07664371 0.12752202 0.13247336\n",
      " 0.13985237 0.14916879 0.159841   0.17137343 0.18339406 0.19563937\n",
      " 0.20792598 0.2201259  0.23214817 0.24392778 0.25541827 0.26658806\n",
      " 0.27741766 0.28789771 0.29802746 0.30781344 0.31726754 0.32640573\n",
      " 0.33524701 0.34381154 0.35212007 0.36019263]\n",
      "24 day output [[0.36804777]]\n",
      "25 day input [0.11994991 0.1096556  0.1208516  0.13212273 0.13470257 0.14311835\n",
      " 0.14662492 0.15524108 0.1587226  0.16839073 0.17001879 0.17222292\n",
      " 0.1806387  0.17765811 0.16974327 0.16899186 0.17933626 0.17087038\n",
      " 0.16278021 0.16355667 0.15842204 0.14755166 0.15233563 0.1591985\n",
      " 0.1463995  0.14584847 0.15168441 0.15125861 0.14922981 0.13763306\n",
      " 0.14036318 0.12513463 0.12455855 0.14226675 0.12726362 0.12804008\n",
      " 0.13184721 0.14822793 0.12505949 0.12633688 0.11326237 0.11939887\n",
      " 0.09933626 0.08946775 0.10086412 0.09693175 0.10619912 0.08510958\n",
      " 0.07641828 0.07701941 0.09084534 0.08395742 0.08435817 0.09252348\n",
      " 0.107201   0.10519724 0.10487163 0.11113338 0.096531   0.09843456\n",
      " 0.10487163 0.10299311 0.08966813 0.07586725 0.0627176  0.06492173\n",
      " 0.07160927 0.05815905 0.06191609 0.07271133 0.07140889 0.0787226\n",
      " 0.08721353 0.08721353 0.07664371 0.12752202 0.13247336 0.13985237\n",
      " 0.14916879 0.159841   0.17137343 0.18339406 0.19563937 0.20792598\n",
      " 0.2201259  0.23214817 0.24392778 0.25541827 0.26658806 0.27741766\n",
      " 0.28789771 0.29802746 0.30781344 0.31726754 0.32640573 0.33524701\n",
      " 0.34381154 0.35212007 0.36019263 0.36804777]\n",
      "25 day output [[0.37570256]]\n",
      "26 day input [0.1096556  0.1208516  0.13212273 0.13470257 0.14311835 0.14662492\n",
      " 0.15524108 0.1587226  0.16839073 0.17001879 0.17222292 0.1806387\n",
      " 0.17765811 0.16974327 0.16899186 0.17933626 0.17087038 0.16278021\n",
      " 0.16355667 0.15842204 0.14755166 0.15233563 0.1591985  0.1463995\n",
      " 0.14584847 0.15168441 0.15125861 0.14922981 0.13763306 0.14036318\n",
      " 0.12513463 0.12455855 0.14226675 0.12726362 0.12804008 0.13184721\n",
      " 0.14822793 0.12505949 0.12633688 0.11326237 0.11939887 0.09933626\n",
      " 0.08946775 0.10086412 0.09693175 0.10619912 0.08510958 0.07641828\n",
      " 0.07701941 0.09084534 0.08395742 0.08435817 0.09252348 0.107201\n",
      " 0.10519724 0.10487163 0.11113338 0.096531   0.09843456 0.10487163\n",
      " 0.10299311 0.08966813 0.07586725 0.0627176  0.06492173 0.07160927\n",
      " 0.05815905 0.06191609 0.07271133 0.07140889 0.0787226  0.08721353\n",
      " 0.08721353 0.07664371 0.12752202 0.13247336 0.13985237 0.14916879\n",
      " 0.159841   0.17137343 0.18339406 0.19563937 0.20792598 0.2201259\n",
      " 0.23214817 0.24392778 0.25541827 0.26658806 0.27741766 0.28789771\n",
      " 0.29802746 0.30781344 0.31726754 0.32640573 0.33524701 0.34381154\n",
      " 0.35212007 0.36019263 0.36804777 0.37570256]\n",
      "26 day output [[0.38317096]]\n",
      "27 day input [0.1208516  0.13212273 0.13470257 0.14311835 0.14662492 0.15524108\n",
      " 0.1587226  0.16839073 0.17001879 0.17222292 0.1806387  0.17765811\n",
      " 0.16974327 0.16899186 0.17933626 0.17087038 0.16278021 0.16355667\n",
      " 0.15842204 0.14755166 0.15233563 0.1591985  0.1463995  0.14584847\n",
      " 0.15168441 0.15125861 0.14922981 0.13763306 0.14036318 0.12513463\n",
      " 0.12455855 0.14226675 0.12726362 0.12804008 0.13184721 0.14822793\n",
      " 0.12505949 0.12633688 0.11326237 0.11939887 0.09933626 0.08946775\n",
      " 0.10086412 0.09693175 0.10619912 0.08510958 0.07641828 0.07701941\n",
      " 0.09084534 0.08395742 0.08435817 0.09252348 0.107201   0.10519724\n",
      " 0.10487163 0.11113338 0.096531   0.09843456 0.10487163 0.10299311\n",
      " 0.08966813 0.07586725 0.0627176  0.06492173 0.07160927 0.05815905\n",
      " 0.06191609 0.07271133 0.07140889 0.0787226  0.08721353 0.08721353\n",
      " 0.07664371 0.12752202 0.13247336 0.13985237 0.14916879 0.159841\n",
      " 0.17137343 0.18339406 0.19563937 0.20792598 0.2201259  0.23214817\n",
      " 0.24392778 0.25541827 0.26658806 0.27741766 0.28789771 0.29802746\n",
      " 0.30781344 0.31726754 0.32640573 0.33524701 0.34381154 0.35212007\n",
      " 0.36019263 0.36804777 0.37570256 0.38317096]\n",
      "27 day output [[0.3904652]]\n",
      "28 day input [0.13212273 0.13470257 0.14311835 0.14662492 0.15524108 0.1587226\n",
      " 0.16839073 0.17001879 0.17222292 0.1806387  0.17765811 0.16974327\n",
      " 0.16899186 0.17933626 0.17087038 0.16278021 0.16355667 0.15842204\n",
      " 0.14755166 0.15233563 0.1591985  0.1463995  0.14584847 0.15168441\n",
      " 0.15125861 0.14922981 0.13763306 0.14036318 0.12513463 0.12455855\n",
      " 0.14226675 0.12726362 0.12804008 0.13184721 0.14822793 0.12505949\n",
      " 0.12633688 0.11326237 0.11939887 0.09933626 0.08946775 0.10086412\n",
      " 0.09693175 0.10619912 0.08510958 0.07641828 0.07701941 0.09084534\n",
      " 0.08395742 0.08435817 0.09252348 0.107201   0.10519724 0.10487163\n",
      " 0.11113338 0.096531   0.09843456 0.10487163 0.10299311 0.08966813\n",
      " 0.07586725 0.0627176  0.06492173 0.07160927 0.05815905 0.06191609\n",
      " 0.07271133 0.07140889 0.0787226  0.08721353 0.08721353 0.07664371\n",
      " 0.12752202 0.13247336 0.13985237 0.14916879 0.159841   0.17137343\n",
      " 0.18339406 0.19563937 0.20792598 0.2201259  0.23214817 0.24392778\n",
      " 0.25541827 0.26658806 0.27741766 0.28789771 0.29802746 0.30781344\n",
      " 0.31726754 0.32640573 0.33524701 0.34381154 0.35212007 0.36019263\n",
      " 0.36804777 0.37570256 0.38317096 0.3904652 ]\n",
      "28 day output [[0.39759395]]\n",
      "29 day input [0.13470257 0.14311835 0.14662492 0.15524108 0.1587226  0.16839073\n",
      " 0.17001879 0.17222292 0.1806387  0.17765811 0.16974327 0.16899186\n",
      " 0.17933626 0.17087038 0.16278021 0.16355667 0.15842204 0.14755166\n",
      " 0.15233563 0.1591985  0.1463995  0.14584847 0.15168441 0.15125861\n",
      " 0.14922981 0.13763306 0.14036318 0.12513463 0.12455855 0.14226675\n",
      " 0.12726362 0.12804008 0.13184721 0.14822793 0.12505949 0.12633688\n",
      " 0.11326237 0.11939887 0.09933626 0.08946775 0.10086412 0.09693175\n",
      " 0.10619912 0.08510958 0.07641828 0.07701941 0.09084534 0.08395742\n",
      " 0.08435817 0.09252348 0.107201   0.10519724 0.10487163 0.11113338\n",
      " 0.096531   0.09843456 0.10487163 0.10299311 0.08966813 0.07586725\n",
      " 0.0627176  0.06492173 0.07160927 0.05815905 0.06191609 0.07271133\n",
      " 0.07140889 0.0787226  0.08721353 0.08721353 0.07664371 0.12752202\n",
      " 0.13247336 0.13985237 0.14916879 0.159841   0.17137343 0.18339406\n",
      " 0.19563937 0.20792598 0.2201259  0.23214817 0.24392778 0.25541827\n",
      " 0.26658806 0.27741766 0.28789771 0.29802746 0.30781344 0.31726754\n",
      " 0.32640573 0.33524701 0.34381154 0.35212007 0.36019263 0.36804777\n"
     ]
    },
    {
     "name": "stdout",
     "output_type": "stream",
     "text": [
      " 0.37570256 0.38317096 0.3904652  0.39759395]\n",
      "29 day output [[0.40456343]]\n",
      "[[0.12752202153205872], [0.13247336447238922], [0.139852374792099], [0.14916878938674927], [0.15984100103378296], [0.1713734269142151], [0.18339405953884125], [0.19563937187194824], [0.2079259753227234], [0.22012589871883392], [0.2321481704711914], [0.24392777681350708], [0.2554182708263397], [0.2665880620479584], [0.2774176597595215], [0.2878977060317993], [0.2980274558067322], [0.307813435792923], [0.3172675371170044], [0.32640573382377625], [0.3352470099925995], [0.3438115417957306], [0.3521200716495514], [0.3601926267147064], [0.3680477738380432], [0.37570255994796753], [0.3831709623336792], [0.3904651999473572], [0.3975939452648163], [0.40456342697143555]]\n"
     ]
    }
   ],
   "source": [
    "# demonstrate prediction for next 10 days\n",
    "from numpy import array\n",
    "\n",
    "lst_output=[]\n",
    "n_steps=100\n",
    "i=0\n",
    "while(i<30):\n",
    "    \n",
    "    if(len(temp_input)>100):\n",
    "        #print(temp_input)\n",
    "        x_input=np.array(temp_input[1:])\n",
    "        print(\"{} day input {}\".format(i,x_input))\n",
    "        x_input=x_input.reshape(1,-1)\n",
    "        x_input = x_input.reshape((1, n_steps, 1))\n",
    "        #print(x_input)\n",
    "        yhat = model.predict(x_input, verbose=0)\n",
    "        print(\"{} day output {}\".format(i,yhat))\n",
    "        temp_input.extend(yhat[0].tolist())\n",
    "        temp_input=temp_input[1:]\n",
    "        #print(temp_input)\n",
    "        lst_output.extend(yhat.tolist())\n",
    "        i=i+1\n",
    "    else:\n",
    "        x_input = x_input.reshape((1, n_steps,1))\n",
    "        yhat = model.predict(x_input, verbose=0)\n",
    "        print(yhat[0])\n",
    "        temp_input.extend(yhat[0].tolist())\n",
    "        print(len(temp_input))\n",
    "        lst_output.extend(yhat.tolist())\n",
    "        i=i+1\n",
    "    \n",
    "\n",
    "print(lst_output)"
   ]
  },
  {
   "cell_type": "code",
   "execution_count": 50,
   "id": "6c00978e",
   "metadata": {},
   "outputs": [],
   "source": [
    "day_new=np.arange(1,101)\n",
    "day_pred=np.arange(101,131)"
   ]
  },
  {
   "cell_type": "code",
   "execution_count": 51,
   "id": "af5c94bb",
   "metadata": {},
   "outputs": [],
   "source": [
    "import matplotlib.pyplot as plt"
   ]
  },
  {
   "cell_type": "code",
   "execution_count": 52,
   "id": "c0a5634d",
   "metadata": {},
   "outputs": [
    {
     "data": {
      "text/plain": [
       "[<matplotlib.lines.Line2D at 0x1c95533bd00>]"
      ]
     },
     "execution_count": 52,
     "metadata": {},
     "output_type": "execute_result"
    },
    {
     "data": {
      "image/png": "[encoded data removed]",
      "text/plain": [
       "<Figure size 432x288 with 1 Axes>"
      ]
     },
     "metadata": {
      "needs_background": "light"
     },
     "output_type": "display_data"
    }
   ],
   "source": [
    "plt.plot(day_new,scaler.inverse_transform(df1[1158:]))\n",
    "plt.plot(day_pred,scaler.inverse_transform(lst_output))"
   ]
  },
  {
   "cell_type": "code",
   "execution_count": 53,
   "id": "9cbcf592",
   "metadata": {},
   "outputs": [
    {
     "data": {
      "text/plain": [
       "[<matplotlib.lines.Line2D at 0x1c95588e9d0>]"
      ]
     },
     "execution_count": 53,
     "metadata": {},
     "output_type": "execute_result"
    },
    {
     "data": {
      "image/png": "[encoded data removed]",
      "text/plain": [
       "<Figure size 432x288 with 1 Axes>"
      ]
     },
     "metadata": {
      "needs_background": "light"
     },
     "output_type": "display_data"
    }
   ],
   "source": [
    "df3=df1.tolist()\n",
    "df3.extend(lst_output)\n",
    "plt.plot(df3[1200:])"
   ]
  },
  {
   "cell_type": "code",
   "execution_count": 54,
   "id": "adc71eab",
   "metadata": {},
   "outputs": [],
   "source": [
    "df3=scaler.inverse_transform(df3).tolist()"
   ]
  },
  {
   "cell_type": "code",
   "execution_count": 55,
   "id": "a62ff586",
   "metadata": {},
   "outputs": [
    {
     "data": {
      "text/plain": [
       "[<matplotlib.lines.Line2D at 0x1c955b4fe80>]"
      ]
     },
     "execution_count": 55,
     "metadata": {},
     "output_type": "execute_result"
    },
    {
     "data": {
      "image/png": "[encoded data removed]",
      "text/plain": [
       "<Figure size 432x288 with 1 Axes>"
      ]
     },
     "metadata": {
      "needs_background": "light"
     },
     "output_type": "display_data"
    }
   ],
   "source": [
    "plt.plot(df3)"
   ]
  },
  {
   "cell_type": "code",
   "execution_count": null,
   "id": "c89239ae",
   "metadata": {},
   "outputs": [],
   "source": []
  }
 ],
 "metadata": {
  "kernelspec": {
   "display_name": "Python 3 (ipykernel)",
   "language": "python",
   "name": "python3"
  },
  "language_info": {
   "codemirror_mode": {
    "name": "ipython",
    "version": 3
   },
   "file_extension": ".py",
   "mimetype": "text/x-python",
   "name": "python",
   "nbconvert_exporter": "python",
   "pygments_lexer": "ipython3",
   "version": "3.9.7"
  }
 },
 "nbformat": 4,
 "nbformat_minor": 5
}
